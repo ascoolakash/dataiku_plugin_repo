{
 "cells": [
  {
   "cell_type": "code",
   "execution_count": 0,
   "metadata": {},
   "outputs": [],
   "source": [
    "import dataiku\n",
    "import pandas as pd, numpy as np\n",
    "from dataiku import pandasutils as pdu\n",
    "\n",
    "from mpl_toolkits.mplot3d import Axes3D\n",
    "import matplotlib.pyplot as plt\n",
    "import os\n",
    "import io"
   ]
  },
  {
   "cell_type": "code",
   "execution_count": 0,
   "metadata": {},
   "outputs": [],
   "source": [
    "# Read recipe inputs\n",
    "ecommerce_transactions_with_ip_prepared = dataiku.Dataset(\"ecommerce_transactions_with_ip_prepared\")\n",
    "df = ecommerce_transactions_with_ip_prepared.get_dataframe()"
   ]
  },
  {
   "cell_type": "code",
   "execution_count": 0,
   "metadata": {},
   "outputs": [],
   "source": [
    "# Filter to only US records\n",
    "df_usa = df[df[\"MerchantIP_country\"] == \"United States\"]\n",
    "\n",
    "# Determine average purchase amount, per customer age and purchase hour\n",
    "df_avg_purchase = df[[\"PurchaseHour\", \"CustomerAge\", \"OrderTotal\"]].groupby(by=[\"PurchaseHour\",\n",
    "                                                                                \"CustomerAge\"], as_index=False).mean()\n",
    "\n",
    "# Scatter plot of avg purchase amount, per customer age and purchase hour\n",
    "fig = plt.figure()\n",
    "ax = fig.add_subplot(111, projection='3d')\n",
    "\n",
    "xs = df_avg_purchase[\"PurchaseHour\"]\n",
    "ys = df_avg_purchase[\"CustomerAge\"]\n",
    "zs = df_avg_purchase[\"OrderTotal\"]\n",
    "\n",
    "ax.set_xlabel('Purchase Hour')\n",
    "ax.set_ylabel('Customer Age')\n",
    "ax.set_zlabel('Avg Order Total')\n",
    "ax.set_title(\"US Transactions Only\")\n",
    "\n",
    "ax.scatter(xs, ys, zs)"
   ]
  },
  {
   "cell_type": "code",
   "execution_count": 0,
   "metadata": {},
   "outputs": [],
   "source": [
    "# Save scatter plot to folder\n",
    "folder_for_plots = dataiku.Folder(\"MIrujfBg\")\n",
    "\n",
    "buffer = io.BytesIO()\n",
    "plt.savefig(buffer, format=\"png\")\n",
    "folder_for_plots.upload_stream(\"US Transactions Only.png\", buffer.getvalue())"
   ]
  }
 ],
 "metadata": {
  "associatedRecipe": "compute_MIrujfBg",
  "creator": "msakande",
  "customFields": {},
  "kernelspec": {
   "display_name": "Python 2",
   "language": "python",
   "name": "python2"
  },
  "language_info": {
   "codemirror_mode": {
    "name": "ipython",
    "version": 2
   },
   "file_extension": ".py",
   "mimetype": "text/x-python",
   "name": "python",
   "nbconvert_exporter": "python",
   "pygments_lexer": "ipython2",
   "version": "2.7.5"
  },
  "tags": [
   "recipe-editor"
  ]
 },
 "nbformat": 4,
 "nbformat_minor": 1
}
