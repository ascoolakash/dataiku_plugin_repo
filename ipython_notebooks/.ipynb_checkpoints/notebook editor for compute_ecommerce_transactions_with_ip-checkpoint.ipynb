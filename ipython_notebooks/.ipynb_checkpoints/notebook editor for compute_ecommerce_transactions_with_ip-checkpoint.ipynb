{
 "cells": [
  {
   "cell_type": "code",
   "execution_count": 0,
   "metadata": {},
   "outputs": [],
   "source": [
    "# -*- coding: utf-8 -*-\n",
    "import dataiku\n",
    "import pandas as pd, numpy as np\n",
    "from dataiku import pandasutils as pdu\n",
    "\n",
    "# Read recipe inputs\n",
    "ecommerce_transactions = dataiku.Dataset(\"ecommerce_transactions\")\n",
    "ecommerce_transactions_df = ecommerce_transactions.get_dataframe()\n",
    "\n",
    "\n",
    "# Compute recipe outputs from inputs\n",
    "# TODO: Replace this part by your actual code that computes the output, as a Pandas dataframe\n",
    "# NB: DSS also supports other kinds of APIs for reading and writing data. Please see doc.\n",
    "\n",
    "ecommerce_transactions_with_ip_df = ecommerce_transactions_df # For this sample code, simply copy input to output\n",
    "\n",
    "\n",
    "# Write recipe outputs\n",
    "ecommerce_transactions_with_ip = dataiku.Dataset(\"ecommerce_transactions_with_ip\")\n",
    "ecommerce_transactions_with_ip.write_with_schema(ecommerce_transactions_with_ip_df)"
   ]
  }
 ],
 "metadata": {
  "associatedRecipe": "compute_ecommerce_transactions_with_ip",
  "creator": "dataiku-admin",
  "customFields": {},
  "kernelspec": {
   "display_name": "Python 2",
   "language": "python",
   "name": "python2"
  },
  "language_info": {
   "codemirror_mode": {
    "name": "ipython",
    "version": 2
   },
   "file_extension": ".py",
   "mimetype": "text/x-python",
   "name": "python",
   "nbconvert_exporter": "python",
   "pygments_lexer": "ipython2",
   "version": "2.7.5"
  },
  "tags": [
   "recipe-editor"
  ]
 },
 "nbformat": 4,
 "nbformat_minor": 1
}
