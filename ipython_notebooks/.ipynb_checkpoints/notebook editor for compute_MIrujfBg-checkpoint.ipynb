{
 "cells": [
  {
   "cell_type": "code",
   "execution_count": 3,
   "metadata": {},
   "outputs": [],
   "source": [
    "import dataiku\n",
    "import pandas as pd, numpy as np\n",
    "from dataiku import pandasutils as pdu\n",
    "\n",
    "import matplotlib"
   ]
  },
  {
   "cell_type": "code",
   "execution_count": 4,
   "metadata": {},
   "outputs": [],
   "source": [
    "# Read recipe inputs\n",
    "ecommerce_transactions_with_ip_prepared = dataiku.Dataset(\"ecommerce_transactions_with_ip_prepared\")\n",
    "df = ecommerce_transactions_with_ip_prepared.get_dataframe()"
   ]
  },
  {
   "cell_type": "code",
   "execution_count": 10,
   "metadata": {},
   "outputs": [],
   "source": [
    "# Filter to only US records\n",
    "df_usa = df[df[\"MerchantIP_country\"] == \"United States\"]\n",
    "\n",
    "# Determine average purchase amount, per customer age and purchase hour\n",
    "df_avg_purchase = df[[\"PurchaseHour\", \"CustomerAge\", \"OrderTotal\"]].groupby(by=[\"OrderTotal\", \n",
    "                                                                                \"CustomerAge\"], as_index=False).mean()\n"
   ]
  },
  {
   "cell_type": "code",
   "execution_count": 0,
   "metadata": {},
   "outputs": [],
   "source": [
    "# Write recipe outputs\n",
    "order_total_scatter_plots = dataiku.Folder(\"MIrujfBg\")"
   ]
  }
 ],
 "metadata": {
  "associatedRecipe": "compute_MIrujfBg",
  "creator": "dataiku-admin",
  "customFields": {},
  "kernelspec": {
   "display_name": "Python (env py36)",
   "language": "python",
   "name": "py-dku-venv-py36"
  },
  "language_info": {
   "codemirror_mode": {
    "name": "ipython",
    "version": 3
   },
   "file_extension": ".py",
   "mimetype": "text/x-python",
   "name": "python",
   "nbconvert_exporter": "python",
   "pygments_lexer": "ipython3",
   "version": "3.6.8"
  },
  "tags": [
   "recipe-editor"
  ]
 },
 "nbformat": 4,
 "nbformat_minor": 1
}
