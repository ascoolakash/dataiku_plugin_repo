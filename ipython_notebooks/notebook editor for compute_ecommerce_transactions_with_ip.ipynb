{
 "cells": [
  {
   "cell_type": "code",
   "execution_count": 3,
   "metadata": {},
   "outputs": [],
   "source": [
    "import dataiku\n",
    "import pandas as pd, numpy as np\n",
    "from dataiku import pandasutils as pdu\n",
    "\n",
    "import socket"
   ]
  },
  {
   "cell_type": "code",
   "execution_count": 14,
   "metadata": {},
   "outputs": [],
   "source": [
    "# Read recipe inputs\n",
    "ecommerce_transactions = dataiku.Dataset(\"ecommerce_transactions\")\n",
    "df = ecommerce_transactions.get_dataframe()"
   ]
  },
  {
   "cell_type": "code",
   "execution_count": 16,
   "metadata": {},
   "outputs": [],
   "source": [
    "# DNS lookup to retrieve IP addresses of merchant URLs\n",
    "df_merchants = pd.DataFrame(data = {\"MerchantURL\" : df[\"MerchantURL\"].unique()})\n",
    "\n",
    "df_merchants[\"MerchantIP\"] = df_merchants[\"MerchantURL\"].apply(socket.gethostbyname)\n",
    "\n",
    "df = df.merge(df_merchants, on=[\"MerchantURL\"])"
   ]
  },
  {
   "cell_type": "code",
   "execution_count": 0,
   "metadata": {},
   "outputs": [],
   "source": [
    "# Write recipe outputs\n",
    "ecommerce_transactions_with_ip = dataiku.Dataset(\"ecommerce_transactions_with_ip\")\n",
    "ecommerce_transactions_with_ip.write_with_schema(df)"
   ]
  }
 ],
 "metadata": {
  "associatedRecipe": "compute_ecommerce_transactions_with_ip",
  "creator": "dataiku-admin",
  "customFields": {},
  "kernelspec": {
   "display_name": "Python 2",
   "language": "python",
   "name": "python2"
  },
  "language_info": {
   "codemirror_mode": {
    "name": "ipython",
    "version": 2
   },
   "file_extension": ".py",
   "mimetype": "text/x-python",
   "name": "python",
   "nbconvert_exporter": "python",
   "pygments_lexer": "ipython2",
   "version": "2.7.5"
  },
  "tags": [
   "recipe-editor"
  ]
 },
 "nbformat": 4,
 "nbformat_minor": 1
}
